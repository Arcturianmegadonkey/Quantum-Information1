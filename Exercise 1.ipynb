{
 "cells": [
  {
   "cell_type": "code",
   "execution_count": 1,
   "id": "a47e2489-38b5-456e-b8cb-8042c904c350",
   "metadata": {},
   "outputs": [],
   "source": [
    "import numpy as np\n",
    "from numpy import array, dot, pi\n",
    "import scipy.sparse as sp\n",
    "from scipy.sparse.linalg import eigsh\n",
    "from scipy.linalg import eigvals"
   ]
  },
  {
   "cell_type": "code",
   "execution_count": 2,
   "id": "e4420577-f05a-4a4f-8fd4-8e69e71058d7",
   "metadata": {},
   "outputs": [],
   "source": [
    "def pauli_X():\n",
    "    op=sp.csr_matrix([[0,1],[1,0]])\n",
    "    return op\n",
    "\n",
    "def pauli_Z():\n",
    "    op=sp.csr_matrix([[1,0],[0,-1]])\n",
    "    return op\n",
    "\n",
    "def pauli_Y():\n",
    "    op=sp.csr_matrix([[0,-1j],[1j,0]])\n",
    "    return op"
   ]
  },
  {
   "cell_type": "code",
   "execution_count": 3,
   "id": "4ee00ea7-abb7-4668-a0d3-4c2c5e66bb0b",
   "metadata": {},
   "outputs": [
    {
     "name": "stdout",
     "output_type": "stream",
     "text": [
      "<Compressed Sparse Row sparse matrix of dtype 'int64'\n",
      "\twith 2 stored elements and shape (2, 2)>\n",
      "  Coords\tValues\n",
      "  (0, 1)\t1\n",
      "  (1, 0)\t1\n"
     ]
    }
   ],
   "source": [
    "print(pauli_X())"
   ]
  },
  {
   "cell_type": "code",
   "execution_count": 5,
   "id": "29f5e85b-615c-40be-b357-c2e16e1fe925",
   "metadata": {},
   "outputs": [
    {
     "name": "stdout",
     "output_type": "stream",
     "text": [
      "<Compressed Sparse Row sparse matrix of dtype 'complex128'\n",
      "\twith 2 stored elements and shape (2, 2)>\n",
      "  Coords\tValues\n",
      "  (0, 1)\t(-0-1j)\n",
      "  (1, 0)\t1j\n"
     ]
    }
   ],
   "source": [
    "print(pauli_Y())"
   ]
  },
  {
   "cell_type": "code",
   "execution_count": 6,
   "id": "fce70af9-385d-45b3-b1ea-9162e1bb6b64",
   "metadata": {},
   "outputs": [
    {
     "name": "stdout",
     "output_type": "stream",
     "text": [
      "<Compressed Sparse Row sparse matrix of dtype 'int64'\n",
      "\twith 2 stored elements and shape (2, 2)>\n",
      "  Coords\tValues\n",
      "  (0, 0)\t1\n",
      "  (1, 1)\t-1\n"
     ]
    }
   ],
   "source": [
    "print(pauli_Z())"
   ]
  },
  {
   "cell_type": "code",
   "execution_count": 9,
   "id": "a48c7ab6-559b-4a14-924c-6140381c9e14",
   "metadata": {},
   "outputs": [
    {
     "name": "stdout",
     "output_type": "stream",
     "text": [
      "(3.872983346207417+0j)\n"
     ]
    }
   ],
   "source": [
    "c = np.array([1 + 1j, 3 - 2j])\n",
    "print(np.sqrt(np.dot(np.conj(c).T,c)))"
   ]
  },
  {
   "cell_type": "code",
   "execution_count": 10,
   "id": "eb92d047-f94c-49c6-8016-9aa9bef9809d",
   "metadata": {},
   "outputs": [
    {
     "name": "stdout",
     "output_type": "stream",
     "text": [
      "(2.6457513110645907+0j)\n"
     ]
    }
   ],
   "source": [
    "d = np.array([2 - 1j, -1 + 1j])\n",
    "print(np.sqrt(np.dot(np.conj(d).T,d)))"
   ]
  },
  {
   "cell_type": "code",
   "execution_count": 11,
   "id": "37b209ed-f6e8-473f-a0f3-3614d9c6885f",
   "metadata": {},
   "outputs": [
    {
     "name": "stdout",
     "output_type": "stream",
     "text": [
      "Complex Matrix:\n",
      "[[2.+0.j 1.-1.j]\n",
      " [1.+1.j 3.+0.j]]\n",
      "\n",
      "Eigenvalues:\n",
      "[1.-2.52702567e-16j 4.-1.91386643e-16j]\n",
      "\n",
      "Eigenvectors:\n",
      "[[ 0.81649658+0.j          0.40824829-0.40824829j]\n",
      " [-0.40824829-0.40824829j  0.81649658+0.j        ]]\n"
     ]
    }
   ],
   "source": [
    "# Define a complex matrix\n",
    "complex_matrix = np.array([[2, 1 - 1j], [1 + 1j, 3]])\n",
    "\n",
    "# Compute eigenvalues and eigenvectors\n",
    "eigenvalues, eigenvectors = np.linalg.eig(complex_matrix)\n",
    "\n",
    "print(\"Complex Matrix:\")\n",
    "print(complex_matrix)\n",
    "print(\"\\nEigenvalues:\")\n",
    "print(eigenvalues)\n",
    "print(\"\\nEigenvectors:\")\n",
    "print(eigenvectors)"
   ]
  },
  {
   "cell_type": "code",
   "execution_count": 12,
   "id": "d7feba4e-d9cb-4480-8a5f-dc8109b43211",
   "metadata": {},
   "outputs": [
    {
     "name": "stdout",
     "output_type": "stream",
     "text": [
      "[[1.-2.52702567e-16j 0.+0.00000000e+00j]\n",
      " [0.+0.00000000e+00j 4.-1.91386643e-16j]]\n"
     ]
    }
   ],
   "source": [
    "e = np.array([[eigenvalues[0], 0], [0, eigenvalues[1]]])\n",
    "print(e)"
   ]
  },
  {
   "cell_type": "code",
   "execution_count": null,
   "id": "c9893212-178c-42c8-a0ee-47e1e7e882dc",
   "metadata": {},
   "outputs": [],
   "source": []
  }
 ],
 "metadata": {
  "kernelspec": {
   "display_name": "Python 3 (ipykernel)",
   "language": "python",
   "name": "python3"
  },
  "language_info": {
   "codemirror_mode": {
    "name": "ipython",
    "version": 3
   },
   "file_extension": ".py",
   "mimetype": "text/x-python",
   "name": "python",
   "nbconvert_exporter": "python",
   "pygments_lexer": "ipython3",
   "version": "3.12.4"
  }
 },
 "nbformat": 4,
 "nbformat_minor": 5
}
